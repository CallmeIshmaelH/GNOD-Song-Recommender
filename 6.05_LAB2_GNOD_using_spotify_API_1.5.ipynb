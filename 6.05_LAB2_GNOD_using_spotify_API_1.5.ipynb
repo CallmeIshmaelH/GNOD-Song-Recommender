{
 "cells": [
  {
   "cell_type": "markdown",
   "source": [
    "# Instructions - Scraping popular songs  \r\n",
    "Your product will take a song as an input from the user and will output another song (the recommendation).  \r\n",
    "In most cases, the recommended song will have to be similar to the inputted song, but the CTO thinks that if the song is on  \r\n",
    "the top charts at the moment, the user will enjoy more a recommendation of a song that's also popular at the moment.  \r\n",
    "\r\n",
    "You have find data on the internet about currently popular songs.  \r\n",
    "Billboard maintains a weekly Top 100 of \"hot\" songs here: https://www.billboard.com/charts/hot-100.  \r\n",
    "It's a good place to start! Scrape the current top 100 songs and their respective artists, and put the information into a pandas dataframe.  "
   ],
   "metadata": {}
  },
  {
   "cell_type": "markdown",
   "source": [
    "## Lab 1: Scrape Top 100  currently'hot' songs.\r\n"
   ],
   "metadata": {}
  },
  {
   "cell_type": "code",
   "execution_count": 1,
   "source": [
    "# import necessary libraries\r\n",
    "from bs4 import BeautifulSoup\r\n",
    "import requests\r\n",
    "import numpy as np \r\n",
    "import pandas as pd\r\n",
    "import time\r\n",
    "from random import randint\r\n",
    "\r\n",
    "\r\n"
   ],
   "outputs": [],
   "metadata": {}
  },
  {
   "cell_type": "code",
   "execution_count": 2,
   "source": [
    "# create a request object\r\n",
    "url = \"https://www.billboard.com/charts/hot-100\"\r\n",
    "response = requests.get(url)\r\n",
    "print(response.status_code)"
   ],
   "outputs": [
    {
     "output_type": "stream",
     "name": "stdout",
     "text": [
      "200\n"
     ]
    }
   ],
   "metadata": {}
  },
  {
   "cell_type": "code",
   "execution_count": 3,
   "source": [
    "# parse request object content with beautiful soup\r\n",
    "soup = BeautifulSoup(response.content, \"html.parser\")\r\n"
   ],
   "outputs": [],
   "metadata": {}
  },
  {
   "cell_type": "code",
   "execution_count": 4,
   "source": [
    "# Search for desired elements using selectors from the URL source information.\r\n",
    "\r\n",
    "# selects the entire span covering the list element for each song in the top 100 list.\r\n",
    "song = soup.select(\"span.chart-element__information\")\r\n",
    "\r\n",
    "# selects the span covering only the song information pertaining to the song title.\r\n",
    "song_title = soup.select(\"span.chart-element__information__song.text--truncate.color--primary\")\r\n",
    "\r\n",
    "# selects the span covering only the song information pertaining to the artist.\r\n",
    "artist = soup.select(\"span.chart-element__information__artist.text--truncate.color--secondary\")"
   ],
   "outputs": [],
   "metadata": {}
  },
  {
   "cell_type": "code",
   "execution_count": 5,
   "source": [
    "# Create lists to iterate the scraped text data into.\r\n",
    "song_titles = []\r\n",
    "artist_name = []\r\n",
    "\r\n",
    "# create a for loop to store the text data scraped from each span in the lists defined above\r\n",
    "for item in range(len(song)):\r\n",
    "    song_titles.append(song_title[item].get_text())\r\n",
    "    artist_name.append(artist[item].get_text())\r\n",
    "\r\n",
    "song_titles\r\n",
    "#artist_name"
   ],
   "outputs": [
    {
     "output_type": "execute_result",
     "data": {
      "text/plain": [
       "['Way 2 Sexy',\n",
       " 'Girls Want Girls',\n",
       " 'Fair Trade',\n",
       " 'Champagne Poetry',\n",
       " 'Knife Talk',\n",
       " 'Stay',\n",
       " 'In The Bible',\n",
       " \"Papi's Home\",\n",
       " 'TSU',\n",
       " 'Love All',\n",
       " 'No Friends In The Industry',\n",
       " 'N 2 Deep',\n",
       " 'Bad Habits',\n",
       " 'Pipe Down',\n",
       " 'Good 4 U',\n",
       " '7am On Bridle Path',\n",
       " 'Butter',\n",
       " 'Race My Mind',\n",
       " 'Kiss Me More',\n",
       " 'Industry Baby',\n",
       " 'Fancy Like',\n",
       " 'IMY2',\n",
       " 'Levitating',\n",
       " \"Yebba's Heartbreak\",\n",
       " 'You Only Live Twice',\n",
       " 'Fountains',\n",
       " 'Get Along Better',\n",
       " 'Save Your Tears',\n",
       " 'Hurricane',\n",
       " 'Montero (Call Me By Your Name)',\n",
       " 'Deja Vu',\n",
       " 'Fucking Fans',\n",
       " 'Heat Waves',\n",
       " 'Essence',\n",
       " 'The Remorse',\n",
       " 'You Right',\n",
       " 'Take My Breath',\n",
       " 'Need To Know',\n",
       " \"Beggin'\",\n",
       " 'Leave Before You Love Me',\n",
       " 'Off The Grid',\n",
       " 'Happier Than Ever',\n",
       " \"If I Didn't Love You\",\n",
       " 'Family Ties',\n",
       " 'Pepas',\n",
       " 'Leave The Door Open',\n",
       " 'Peaches',\n",
       " 'Waves',\n",
       " 'Traitor',\n",
       " 'Moon',\n",
       " 'Things A Man Oughta Know',\n",
       " 'Country Again',\n",
       " 'Chasing After You',\n",
       " 'Arcade',\n",
       " 'Rumors',\n",
       " 'Cold Beer Calling My Name',\n",
       " 'Thot Shit',\n",
       " 'Jail',\n",
       " 'Late At Night',\n",
       " 'A-O-K',\n",
       " 'I Was On A Boat That Day',\n",
       " 'Wockesha',\n",
       " 'Sharing Locations',\n",
       " 'Every Chance I Get',\n",
       " 'Ok Ok',\n",
       " 'Praise God',\n",
       " 'Skate',\n",
       " 'Whole Lotta Money',\n",
       " 'Love Again',\n",
       " \"Memory I Don't Mess With\",\n",
       " \"Drinkin' Beer. Talkin' God. Amen.\",\n",
       " 'You Time',\n",
       " 'Todo de Ti',\n",
       " 'Buy Dirt',\n",
       " '2055',\n",
       " 'Cold As You',\n",
       " 'Volvi',\n",
       " 'Junya',\n",
       " \"Drunk (And I Don't Wanna Go Home)\",\n",
       " 'Woman',\n",
       " \"We Didn't Have Much\",\n",
       " 'Gyalis',\n",
       " 'Wild Side',\n",
       " 'Yonaguni',\n",
       " 'Believe What I Say',\n",
       " 'Memory',\n",
       " 'Blue Note$ II',\n",
       " 'Get Into It (Yuh)',\n",
       " 'My Boy',\n",
       " 'Single Saturday Night',\n",
       " 'Jonah',\n",
       " 'You Should Probably Leave',\n",
       " \"Don't Go Yet\",\n",
       " \"Thinking 'Bout You\",\n",
       " 'Jesus Lord',\n",
       " 'Summer Of Love',\n",
       " \"Ain't Shit\",\n",
       " 'Motley Crew',\n",
       " 'Remote Control',\n",
       " 'Baddest']"
      ]
     },
     "metadata": {},
     "execution_count": 5
    }
   ],
   "metadata": {}
  },
  {
   "cell_type": "code",
   "execution_count": 6,
   "source": [
    "# Create a dataframe of the top 100 songs and their associated artists. \r\n",
    "\r\n",
    "Top_100 = pd.DataFrame({'Artist Name':artist_name,'Track Title':song_titles})"
   ],
   "outputs": [],
   "metadata": {}
  },
  {
   "cell_type": "markdown",
   "source": [
    "## Lab 2 (Scrape additional song data from other webpages)\r\n",
    "\r\n",
    "Get the top 100 songs by year for 2000-2016 from playback.fm"
   ],
   "metadata": {}
  },
  {
   "cell_type": "code",
   "execution_count": 7,
   "source": [
    "# create a loop to enable naps between get requests to respectfully scrape the song data from each page in the list.\r\n",
    "def naptime():\r\n",
    "    nap = randint(1,8)\r\n",
    "    print(f\"Resting for {nap} seconds\")\r\n",
    "    time.sleep(nap)"
   ],
   "outputs": [],
   "metadata": {}
  },
  {
   "cell_type": "code",
   "execution_count": 8,
   "source": [
    "# Create a loop to generate urls for each page in the desired range of webpages and store them in a list.\r\n",
    "\r\n",
    "webpages = []\r\n",
    "years = range(1990, 2017, 1)\r\n",
    "\r\n",
    "for item in years:\r\n",
    "    start_at= str(item)\r\n",
    "    url = f\"https://playback.fm/charts/top-100-songs/{start_at}\"\r\n",
    "    webpages.append(url)\r\n",
    "\r\n",
    "len(webpages)"
   ],
   "outputs": [
    {
     "output_type": "execute_result",
     "data": {
      "text/plain": [
       "27"
      ]
     },
     "metadata": {},
     "execution_count": 8
    }
   ],
   "metadata": {}
  },
  {
   "cell_type": "code",
   "execution_count": 9,
   "source": [
    "# test scraping script on 3 random pages.\r\n",
    "#y2k = BeautifulSoup(requests.get(webpages[0]).content, 'html.parser')\r\n",
    "\r\n",
    "#artist = list(y2k.select(\"td:nth-child(2) > a\"))\r\n",
    "#for a in artist:\r\n",
    "#    print(a.get_text())\r\n",
    "\r\n",
    "#song_title = list(y2k.select(\"td.mobile-hide > a > span.song\"))\r\n",
    "#for s in song_title:\r\n",
    "#   print(s.get_text())\r\n",
    "\r\n",
    "#y2k10 = BeautifulSoup(requests.get(webpages[9]).content, 'html.parser')\r\n",
    "\r\n",
    "#artist2 = list(y2k10.select(\"td:nth-child(2) > a\"))\r\n",
    "#for a in artist2:\r\n",
    "#    print(a.get_text())\r\n",
    "\r\n",
    "#song_title2 = list(y2k10.select(\"td.mobile-hide > a > span.song\"))\r\n",
    "#for s in song_title2:\r\n",
    "#    print(s.get_text())\r\n",
    "\r\n",
    "# y2k20 = BeautifulSoup(requests.get(webpages[15]).content, 'html.parser')\r\n",
    "\r\n",
    "# artist3 = list(y2k20.select(\"td:nth-child(2) > a\"))\r\n",
    "\r\n",
    "# for a in artist3:\r\n",
    "#     print(a.get_text())\r\n",
    "\r\n",
    "# song_title3 = list(y2k20.select(\"td.mobile-hide > a > span.song\"))\r\n",
    "# for s in song_title3:\r\n",
    "#      print(s.get_text())\r\n"
   ],
   "outputs": [],
   "metadata": {}
  },
  {
   "cell_type": "code",
   "execution_count": 10,
   "source": [
    "# assemble script to send and store multiple requests using the urls stored in webpages\r\n",
    "artists2 = []\r\n",
    "songtitles2 = []\r\n",
    "for page in webpages:\r\n",
    "    # create request object\r\n",
    "    request_page = requests.get(page)\r\n",
    "    \r\n",
    "    # monitor the status code\r\n",
    "    print(f\"Status code: {request_page.status_code}\")\r\n",
    "\r\n",
    "    # create a parsed soup object\r\n",
    "    soup = BeautifulSoup(request_page.content, 'html.parser')\r\n",
    "\r\n",
    "    for a in soup.select(\"td:nth-child(2) > a\"):\r\n",
    "        artists2.append(a.get_text())\r\n",
    "\r\n",
    "    for s in soup.select(\"td.mobile-hide > a > span.song\"):\r\n",
    "        songtitles2.append(s.get_text())\r\n",
    "\r\n",
    "    naptime()\r\n",
    "\r\n",
    "\r\n"
   ],
   "outputs": [
    {
     "output_type": "stream",
     "name": "stdout",
     "text": [
      "Status code: 200\n",
      "Resting for 1 seconds\n",
      "Status code: 200\n",
      "Resting for 6 seconds\n",
      "Status code: 200\n",
      "Resting for 3 seconds\n",
      "Status code: 200\n",
      "Resting for 4 seconds\n",
      "Status code: 200\n",
      "Resting for 6 seconds\n",
      "Status code: 200\n",
      "Resting for 1 seconds\n",
      "Status code: 200\n",
      "Resting for 8 seconds\n",
      "Status code: 200\n",
      "Resting for 7 seconds\n",
      "Status code: 200\n",
      "Resting for 7 seconds\n",
      "Status code: 200\n",
      "Resting for 6 seconds\n",
      "Status code: 200\n",
      "Resting for 4 seconds\n",
      "Status code: 200\n",
      "Resting for 1 seconds\n",
      "Status code: 200\n",
      "Resting for 8 seconds\n",
      "Status code: 200\n",
      "Resting for 6 seconds\n",
      "Status code: 200\n",
      "Resting for 7 seconds\n",
      "Status code: 200\n",
      "Resting for 7 seconds\n",
      "Status code: 200\n",
      "Resting for 8 seconds\n",
      "Status code: 200\n",
      "Resting for 8 seconds\n",
      "Status code: 200\n",
      "Resting for 8 seconds\n",
      "Status code: 200\n",
      "Resting for 7 seconds\n",
      "Status code: 200\n",
      "Resting for 5 seconds\n",
      "Status code: 200\n",
      "Resting for 3 seconds\n",
      "Status code: 200\n",
      "Resting for 6 seconds\n",
      "Status code: 200\n",
      "Resting for 5 seconds\n",
      "Status code: 200\n",
      "Resting for 6 seconds\n",
      "Status code: 200\n",
      "Resting for 1 seconds\n",
      "Status code: 200\n",
      "Resting for 1 seconds\n"
     ]
    }
   ],
   "metadata": {}
  },
  {
   "cell_type": "code",
   "execution_count": 11,
   "source": [
    "# clean up the artist name strings\r\n",
    "artists2 = list(map(lambda x: x.replace(\"\\n\",\"\"), artists2))"
   ],
   "outputs": [],
   "metadata": {}
  },
  {
   "cell_type": "code",
   "execution_count": 12,
   "source": [
    "# Create a dataframe of collected songs and artists from 1990-2016\r\n",
    "top100_1990_2016 = pd.DataFrame({'Artist Name':artists2,'Track Title':songtitles2})"
   ],
   "outputs": [],
   "metadata": {}
  },
  {
   "cell_type": "code",
   "execution_count": 13,
   "source": [
    "# Remove duplicates and set the index appropriately.\r\n",
    "top100_1990_2016.drop_duplicates(inplace = True, ignore_index= True)\r\n",
    "top100_1990_2016"
   ],
   "outputs": [
    {
     "output_type": "execute_result",
     "data": {
      "text/html": [
       "<div>\n",
       "<style scoped>\n",
       "    .dataframe tbody tr th:only-of-type {\n",
       "        vertical-align: middle;\n",
       "    }\n",
       "\n",
       "    .dataframe tbody tr th {\n",
       "        vertical-align: top;\n",
       "    }\n",
       "\n",
       "    .dataframe thead th {\n",
       "        text-align: right;\n",
       "    }\n",
       "</style>\n",
       "<table border=\"1\" class=\"dataframe\">\n",
       "  <thead>\n",
       "    <tr style=\"text-align: right;\">\n",
       "      <th></th>\n",
       "      <th>Artist Name</th>\n",
       "      <th>Track Title</th>\n",
       "    </tr>\n",
       "  </thead>\n",
       "  <tbody>\n",
       "    <tr>\n",
       "      <th>0</th>\n",
       "      <td>Sinead O'Connor</td>\n",
       "      <td>Nothing Compares 2 U</td>\n",
       "    </tr>\n",
       "    <tr>\n",
       "      <th>1</th>\n",
       "      <td>Madonna</td>\n",
       "      <td>Vogue</td>\n",
       "    </tr>\n",
       "    <tr>\n",
       "      <th>2</th>\n",
       "      <td>Londonbeat</td>\n",
       "      <td>I've Been Thinking About You</td>\n",
       "    </tr>\n",
       "    <tr>\n",
       "      <th>3</th>\n",
       "      <td>MC Hammer</td>\n",
       "      <td>U Can't Touch This</td>\n",
       "    </tr>\n",
       "    <tr>\n",
       "      <th>4</th>\n",
       "      <td>Vanilla Ice</td>\n",
       "      <td>Ice Ice Baby</td>\n",
       "    </tr>\n",
       "    <tr>\n",
       "      <th>...</th>\n",
       "      <td>...</td>\n",
       "      <td>...</td>\n",
       "    </tr>\n",
       "    <tr>\n",
       "      <th>2657</th>\n",
       "      <td>J Balvin</td>\n",
       "      <td>Ginza</td>\n",
       "    </tr>\n",
       "    <tr>\n",
       "      <th>2658</th>\n",
       "      <td>Hozier</td>\n",
       "      <td>Take Me To Church</td>\n",
       "    </tr>\n",
       "    <tr>\n",
       "      <th>2659</th>\n",
       "      <td>Joey Montana</td>\n",
       "      <td>Picky</td>\n",
       "    </tr>\n",
       "    <tr>\n",
       "      <th>2660</th>\n",
       "      <td>Yo Gotti</td>\n",
       "      <td>Down In the DM</td>\n",
       "    </tr>\n",
       "    <tr>\n",
       "      <th>2661</th>\n",
       "      <td>Nelly</td>\n",
       "      <td>The Fix</td>\n",
       "    </tr>\n",
       "  </tbody>\n",
       "</table>\n",
       "<p>2662 rows × 2 columns</p>\n",
       "</div>"
      ],
      "text/plain": [
       "          Artist Name                   Track Title\n",
       "0     Sinead O'Connor          Nothing Compares 2 U\n",
       "1             Madonna                         Vogue\n",
       "2          Londonbeat  I've Been Thinking About You\n",
       "3           MC Hammer            U Can't Touch This\n",
       "4         Vanilla Ice                  Ice Ice Baby\n",
       "...               ...                           ...\n",
       "2657         J Balvin                         Ginza\n",
       "2658           Hozier             Take Me To Church\n",
       "2659     Joey Montana                         Picky\n",
       "2660         Yo Gotti                Down In the DM\n",
       "2661            Nelly                       The Fix\n",
       "\n",
       "[2662 rows x 2 columns]"
      ]
     },
     "metadata": {},
     "execution_count": 13
    }
   ],
   "metadata": {}
  },
  {
   "cell_type": "code",
   "execution_count": 14,
   "source": [
    "# add hot songs to a single dataframe\r\n",
    "Hot_songs = pd.concat((Top_100, top100_1990_2016), axis = 0).reset_index()\r\n",
    "Hot_songs.drop_duplicates(inplace = True)\r\n",
    "Hot_songs.drop('index', axis = 1, inplace = True)\r\n",
    "Hot_songs\r\n"
   ],
   "outputs": [
    {
     "output_type": "execute_result",
     "data": {
      "text/html": [
       "<div>\n",
       "<style scoped>\n",
       "    .dataframe tbody tr th:only-of-type {\n",
       "        vertical-align: middle;\n",
       "    }\n",
       "\n",
       "    .dataframe tbody tr th {\n",
       "        vertical-align: top;\n",
       "    }\n",
       "\n",
       "    .dataframe thead th {\n",
       "        text-align: right;\n",
       "    }\n",
       "</style>\n",
       "<table border=\"1\" class=\"dataframe\">\n",
       "  <thead>\n",
       "    <tr style=\"text-align: right;\">\n",
       "      <th></th>\n",
       "      <th>Artist Name</th>\n",
       "      <th>Track Title</th>\n",
       "    </tr>\n",
       "  </thead>\n",
       "  <tbody>\n",
       "    <tr>\n",
       "      <th>0</th>\n",
       "      <td>Drake Featuring Future &amp; Young Thug</td>\n",
       "      <td>Way 2 Sexy</td>\n",
       "    </tr>\n",
       "    <tr>\n",
       "      <th>1</th>\n",
       "      <td>Drake Featuring Lil Baby</td>\n",
       "      <td>Girls Want Girls</td>\n",
       "    </tr>\n",
       "    <tr>\n",
       "      <th>2</th>\n",
       "      <td>Drake Featuring Travis Scott</td>\n",
       "      <td>Fair Trade</td>\n",
       "    </tr>\n",
       "    <tr>\n",
       "      <th>3</th>\n",
       "      <td>Drake</td>\n",
       "      <td>Champagne Poetry</td>\n",
       "    </tr>\n",
       "    <tr>\n",
       "      <th>4</th>\n",
       "      <td>Drake Featuring 21 Savage &amp; Project Pat</td>\n",
       "      <td>Knife Talk</td>\n",
       "    </tr>\n",
       "    <tr>\n",
       "      <th>...</th>\n",
       "      <td>...</td>\n",
       "      <td>...</td>\n",
       "    </tr>\n",
       "    <tr>\n",
       "      <th>2757</th>\n",
       "      <td>J Balvin</td>\n",
       "      <td>Ginza</td>\n",
       "    </tr>\n",
       "    <tr>\n",
       "      <th>2758</th>\n",
       "      <td>Hozier</td>\n",
       "      <td>Take Me To Church</td>\n",
       "    </tr>\n",
       "    <tr>\n",
       "      <th>2759</th>\n",
       "      <td>Joey Montana</td>\n",
       "      <td>Picky</td>\n",
       "    </tr>\n",
       "    <tr>\n",
       "      <th>2760</th>\n",
       "      <td>Yo Gotti</td>\n",
       "      <td>Down In the DM</td>\n",
       "    </tr>\n",
       "    <tr>\n",
       "      <th>2761</th>\n",
       "      <td>Nelly</td>\n",
       "      <td>The Fix</td>\n",
       "    </tr>\n",
       "  </tbody>\n",
       "</table>\n",
       "<p>2762 rows × 2 columns</p>\n",
       "</div>"
      ],
      "text/plain": [
       "                                  Artist Name        Track Title\n",
       "0         Drake Featuring Future & Young Thug         Way 2 Sexy\n",
       "1                    Drake Featuring Lil Baby   Girls Want Girls\n",
       "2                Drake Featuring Travis Scott         Fair Trade\n",
       "3                                       Drake   Champagne Poetry\n",
       "4     Drake Featuring 21 Savage & Project Pat         Knife Talk\n",
       "...                                       ...                ...\n",
       "2757                                 J Balvin              Ginza\n",
       "2758                                   Hozier  Take Me To Church\n",
       "2759                             Joey Montana              Picky\n",
       "2760                                 Yo Gotti     Down In the DM\n",
       "2761                                    Nelly            The Fix\n",
       "\n",
       "[2762 rows x 2 columns]"
      ]
     },
     "metadata": {},
     "execution_count": 14
    }
   ],
   "metadata": {}
  },
  {
   "cell_type": "code",
   "execution_count": 15,
   "source": [
    "import getpass\r\n",
    "import json\r\n"
   ],
   "outputs": [],
   "metadata": {}
  },
  {
   "cell_type": "code",
   "execution_count": 16,
   "source": [
    "# access spotify web API\r\n",
    "string = open(r\"C:\\Users\\Ish\\Documents\\Ironhack Bootcamp\\Unit 6\\Day 3\\spotAuth.txt\",\"r\").read()\r\n",
    "secrets_dict={}\r\n",
    "for line in string.split('\\n'):\r\n",
    "    if len(line) > 0:\r\n",
    "        secrets_dict[line.split(':')[0]]=line.split(':')[1]\r\n",
    "\r\n"
   ],
   "outputs": [],
   "metadata": {}
  },
  {
   "cell_type": "code",
   "execution_count": 17,
   "source": [
    "# Auth_url = 'https://accounts.spotify.com/api/token'\r\n",
    "# auth_response = requests.post(Auth_url,{\r\n",
    "#     'grant_type': 'client_credentials',\r\n",
    "#     'client_id': secrets_dict['CID'],\r\n",
    "#     'client_secret': secrets_dict['CSEC']})\r\n",
    "\r\n",
    "# auth_response_data = auth_response.json()"
   ],
   "outputs": [],
   "metadata": {}
  },
  {
   "cell_type": "code",
   "execution_count": 18,
   "source": [
    "# auth_response_data\r\n",
    "# access_token = auth_response_data['access_token']\r\n",
    "\r\n",
    "# # now with this we are in more familiar territory\r\n",
    "\r\n",
    "# headers = {'Authorization':f'Bearer {access_token}'}"
   ],
   "outputs": [],
   "metadata": {}
  },
  {
   "cell_type": "code",
   "execution_count": 19,
   "source": [
    "# with headers we can now make our requests to the spotify api\r\n",
    "# get \r\n",
    "#features_api = 'https://api.spotify.com/v1/audio-features'\r\n",
    "#make a get request with requests.\r\n",
    "# response = requests.get(features_api+'/2JeEIJFABPGktfB7tgQFX9?si=34bb7016b74a4d3a', headers = headers)\r\n",
    "\r\n"
   ],
   "outputs": [],
   "metadata": {}
  },
  {
   "cell_type": "code",
   "execution_count": 20,
   "source": [
    "# response.json()"
   ],
   "outputs": [],
   "metadata": {}
  },
  {
   "cell_type": "code",
   "execution_count": null,
   "source": [
    "\r\n"
   ],
   "outputs": [],
   "metadata": {}
  },
  {
   "cell_type": "code",
   "execution_count": 21,
   "source": [
    "# create a function to search through a dataframe of songs check that the input is in it, and return a random song. \r\n",
    "def random_song(song_data = Hot_songs):\r\n",
    "    # Create an input option to allow a user to input a track title and artist name.\r\n",
    "    user_song_input = input('FEED ME A TASTY SONG. ')\r\n",
    "    user_artist_input = input('WHO MADE THIS SONG? IT IS VERY NICE. ')\r\n",
    "    user_request = {'Track Title':user_song_input, 'Artist Name':user_artist_input}\r\n",
    "    Hot = False\r\n",
    "    for i in song_data['Track Title']:    \r\n",
    "        if user_request['Track Title'].lower() == i.lower():\r\n",
    "            random_rec = song_data.iloc[randint(0,(song_data.shape[0]))]\r\n",
    "            print(f'You should try this:\\n\"{random_rec[1]}\" by {random_rec[0]}')\r\n",
    "            Hot = True\r\n",
    "            break\r\n",
    "        else:\r\n",
    "            Hot = False\r\n",
    "            pass\r\n",
    "    if Hot:\r\n",
    "        pass\r\n",
    "    else:\r\n",
    "        print(f\"Sorry, no results found for: {user_request}.\\nAre you sure you spelled it correctly?\")\r\n",
    "\r\n",
    "random_song(Hot_songs)\r\n"
   ],
   "outputs": [
    {
     "output_type": "stream",
     "name": "stdout",
     "text": [
      "Sorry, no results found for: {'Track Title': 'flex', 'Artist Name': 'rich homie quan'}.\n",
      "Are you sure you spelled it correctly?\n"
     ]
    }
   ],
   "metadata": {}
  },
  {
   "cell_type": "code",
   "execution_count": 22,
   "source": [
    "# connect to spotify with api wrapper\r\n",
    "import spotipy\r\n",
    "from spotipy.oauth2 import SpotifyClientCredentials\r\n",
    "\r\n",
    "#Initialize SpotiPy with user credentials\r\n",
    "sp = spotipy.Spotify(auth_manager=SpotifyClientCredentials(client_id=secrets_dict['CID'],\r\n",
    "                                                           client_secret=secrets_dict['CSEC']))"
   ],
   "outputs": [],
   "metadata": {}
  },
  {
   "cell_type": "code",
   "execution_count": 23,
   "source": [
    "# create a dict/list of playlists\r\n",
    "playlists = {'Ska and Punk':'6icnDAQ82WZ0O1wnfzrQPT','Soca':'23szGFUl7S3nsb88x2JAmz','Reggae':'1YCyYCcmjHIYk0lpkXdxjY','Hype Hip-Hop':'66ixvuO63zUDFznDWMuFjM','Hip-Hop':'397WjBVd3O9pBLofjhZSIh','Blues Rock':'2t7Jjuqw22c4SFrRf8G3hH','Jazz':'37i9dQZF1DXbITWG1ZJKYt','Retrowave':'3ebHKSjHujS4Tyt2KKP97R','Pop Mix':'357k6DHp7aUnDIA1a5kpp7',\"80s Pop\":'2KvnvJuv2YLHqs2aW5pf1X','Classic Rock':'6TeyryiZ2UEf3CbLXyztFA','Djent and metalcore':'5XXsROCzMVNP00spESFGCu','Prog and Heavy metal':'1LYbGt2UIeI0KhKxH8ehcP'}\r\n",
    "# create an empty list to store results\r\n",
    "playlist_tracks = []\r\n",
    "# define a function to extract the track information for each track in a playlist\r\n",
    "def get_tracks(playlist_id):\r\n",
    "    results = sp.user_playlist_tracks(\"spotify\",playlist_id)\r\n",
    "    tracks = results['items']\r\n",
    "    while results['next']!=None:\r\n",
    "        results = sp.next(results)\r\n",
    "        tracks = tracks + results['items']\r\n",
    "        time.sleep(randint(1,5))\r\n",
    "        \r\n",
    "    return tracks\r\n",
    "#run a loop to extract the tracks from the dict/list of playlists and store the results in a list.\r\n",
    "for key in playlists.keys():\r\n",
    "    playlist_tracks= playlist_tracks + (get_tracks(playlists[key]))\r\n",
    "\r\n",
    "\r\n",
    "    \r\n"
   ],
   "outputs": [],
   "metadata": {}
  },
  {
   "cell_type": "code",
   "execution_count": 24,
   "source": [
    "len(playlist_tracks)"
   ],
   "outputs": [
    {
     "output_type": "execute_result",
     "data": {
      "text/plain": [
       "8871"
      ]
     },
     "metadata": {},
     "execution_count": 24
    }
   ],
   "metadata": {}
  },
  {
   "cell_type": "code",
   "execution_count": 25,
   "source": [
    "#create function to extract track uris from a list of tracks\r\n",
    "def track_uris(spotify_tracks):\r\n",
    "    uris = [track['track']['uri']for track in spotify_tracks]\r\n",
    "    return uris\r\n",
    "    \r\n",
    "song_uris = track_uris(playlist_tracks)\r\n",
    "\r\n",
    "song_uris[0]"
   ],
   "outputs": [
    {
     "output_type": "execute_result",
     "data": {
      "text/plain": [
       "'spotify:track:4uB28m7RAflobYpnLMb6A2'"
      ]
     },
     "metadata": {},
     "execution_count": 25
    }
   ],
   "metadata": {}
  },
  {
   "cell_type": "code",
   "execution_count": 26,
   "source": [
    "#create function to extract track names from a list of track names and return the result as a list\r\n",
    "def track_titles(spotify_tracks):\r\n",
    "    titles = [track['track']['name']for track in spotify_tracks]\r\n",
    "    return titles\r\n",
    "\r\n",
    "song_titles = track_titles(playlist_tracks)\r\n",
    "len(song_titles)\r\n",
    "\r\n",
    "    "
   ],
   "outputs": [
    {
     "output_type": "execute_result",
     "data": {
      "text/plain": [
       "8871"
      ]
     },
     "metadata": {},
     "execution_count": 26
    }
   ],
   "metadata": {}
  },
  {
   "cell_type": "code",
   "execution_count": 27,
   "source": [
    "# create a function to extract the song links from each song\r\n",
    "def track_links(spotify_tracks):\r\n",
    "    links = [track['track']['external_urls'] for track in spotify_tracks]\r\n",
    "    return links\r\n",
    "\r\n",
    "song_links = track_links(playlist_tracks)\r\n",
    "#song_links = [song_links[x][ list(song_links[x].keys())[0] ] for x in range(len(song_links))]\r\n",
    "links = []\r\n",
    "for x in song_links:\r\n",
    "   links = links + list(x.values())\r\n",
    "\r\n",
    "len(links)\r\n",
    "\r\n",
    "  "
   ],
   "outputs": [
    {
     "output_type": "execute_result",
     "data": {
      "text/plain": [
       "8819"
      ]
     },
     "metadata": {},
     "execution_count": 27
    }
   ],
   "metadata": {}
  },
  {
   "cell_type": "code",
   "execution_count": 28,
   "source": [
    "# create function to extract contributing artists as lists from each song\r\n",
    "def track_artists(spotify_tracks):\r\n",
    "    artists = [[track['track']['artists'][x]['name'] for x in range(len(track['track']['artists']))]for track in spotify_tracks]\r\n",
    "    return artists\r\n",
    "\r\n",
    "song_artists = track_artists(playlist_tracks)\r\n",
    "len(song_artists)"
   ],
   "outputs": [
    {
     "output_type": "execute_result",
     "data": {
      "text/plain": [
       "8871"
      ]
     },
     "metadata": {},
     "execution_count": 28
    }
   ],
   "metadata": {}
  },
  {
   "cell_type": "code",
   "execution_count": 29,
   "source": [
    "song_data = pd.DataFrame({'song_title':song_titles,'artists':song_artists, 'song_uri':song_uris})\r\n",
    "song_data"
   ],
   "outputs": [
    {
     "output_type": "execute_result",
     "data": {
      "text/html": [
       "<div>\n",
       "<style scoped>\n",
       "    .dataframe tbody tr th:only-of-type {\n",
       "        vertical-align: middle;\n",
       "    }\n",
       "\n",
       "    .dataframe tbody tr th {\n",
       "        vertical-align: top;\n",
       "    }\n",
       "\n",
       "    .dataframe thead th {\n",
       "        text-align: right;\n",
       "    }\n",
       "</style>\n",
       "<table border=\"1\" class=\"dataframe\">\n",
       "  <thead>\n",
       "    <tr style=\"text-align: right;\">\n",
       "      <th></th>\n",
       "      <th>song_title</th>\n",
       "      <th>artists</th>\n",
       "      <th>song_uri</th>\n",
       "    </tr>\n",
       "  </thead>\n",
       "  <tbody>\n",
       "    <tr>\n",
       "      <th>0</th>\n",
       "      <td>Linoleum</td>\n",
       "      <td>[NOFX]</td>\n",
       "      <td>spotify:track:4uB28m7RAflobYpnLMb6A2</td>\n",
       "    </tr>\n",
       "    <tr>\n",
       "      <th>1</th>\n",
       "      <td>Big Bang</td>\n",
       "      <td>[Bad Religion]</td>\n",
       "      <td>spotify:track:318CznWjAUDlkYDHP2VYTQ</td>\n",
       "    </tr>\n",
       "    <tr>\n",
       "      <th>2</th>\n",
       "      <td>I'm The One</td>\n",
       "      <td>[Descendents]</td>\n",
       "      <td>spotify:track:5XXiK8GZjjmCHpBpUEm9z5</td>\n",
       "    </tr>\n",
       "    <tr>\n",
       "      <th>3</th>\n",
       "      <td>Straight Edge</td>\n",
       "      <td>[Minor Threat]</td>\n",
       "      <td>spotify:track:3Iw6tbCYDYb3libUo3bB5S</td>\n",
       "    </tr>\n",
       "    <tr>\n",
       "      <th>4</th>\n",
       "      <td>Bikeage</td>\n",
       "      <td>[Descendents]</td>\n",
       "      <td>spotify:track:5EC1LGwsPHVXBcjlf3cHct</td>\n",
       "    </tr>\n",
       "    <tr>\n",
       "      <th>...</th>\n",
       "      <td>...</td>\n",
       "      <td>...</td>\n",
       "      <td>...</td>\n",
       "    </tr>\n",
       "    <tr>\n",
       "      <th>8866</th>\n",
       "      <td>Chosen</td>\n",
       "      <td>[Adagio]</td>\n",
       "      <td>spotify:track:72NIDzRo7FmEZmKbmR6mtq</td>\n",
       "    </tr>\n",
       "    <tr>\n",
       "      <th>8867</th>\n",
       "      <td>Fire Forever</td>\n",
       "      <td>[Adagio]</td>\n",
       "      <td>spotify:track:0ZFTT5BBsoW0ddt2TBOV0H</td>\n",
       "    </tr>\n",
       "    <tr>\n",
       "      <th>8868</th>\n",
       "      <td>We All Die Young</td>\n",
       "      <td>[Eden's Curse]</td>\n",
       "      <td>spotify:track:2e7icsMde2NiAzemsqNhZS</td>\n",
       "    </tr>\n",
       "    <tr>\n",
       "      <th>8869</th>\n",
       "      <td>Evil &amp; Divine</td>\n",
       "      <td>[Eden's Curse]</td>\n",
       "      <td>spotify:track:7uDElGnrYEgMQdSA3tSlhZ</td>\n",
       "    </tr>\n",
       "    <tr>\n",
       "      <th>8870</th>\n",
       "      <td>Last Tribe</td>\n",
       "      <td>[Magnus Karlsson’s Free Fall, Rickard Bengtsson]</td>\n",
       "      <td>spotify:track:47pHU0DEOdoy8tfiIHS7mK</td>\n",
       "    </tr>\n",
       "  </tbody>\n",
       "</table>\n",
       "<p>8871 rows × 3 columns</p>\n",
       "</div>"
      ],
      "text/plain": [
       "            song_title                                           artists  \\\n",
       "0             Linoleum                                            [NOFX]   \n",
       "1             Big Bang                                    [Bad Religion]   \n",
       "2          I'm The One                                     [Descendents]   \n",
       "3        Straight Edge                                    [Minor Threat]   \n",
       "4              Bikeage                                     [Descendents]   \n",
       "...                ...                                               ...   \n",
       "8866            Chosen                                          [Adagio]   \n",
       "8867      Fire Forever                                          [Adagio]   \n",
       "8868  We All Die Young                                    [Eden's Curse]   \n",
       "8869     Evil & Divine                                    [Eden's Curse]   \n",
       "8870        Last Tribe  [Magnus Karlsson’s Free Fall, Rickard Bengtsson]   \n",
       "\n",
       "                                  song_uri  \n",
       "0     spotify:track:4uB28m7RAflobYpnLMb6A2  \n",
       "1     spotify:track:318CznWjAUDlkYDHP2VYTQ  \n",
       "2     spotify:track:5XXiK8GZjjmCHpBpUEm9z5  \n",
       "3     spotify:track:3Iw6tbCYDYb3libUo3bB5S  \n",
       "4     spotify:track:5EC1LGwsPHVXBcjlf3cHct  \n",
       "...                                    ...  \n",
       "8866  spotify:track:72NIDzRo7FmEZmKbmR6mtq  \n",
       "8867  spotify:track:0ZFTT5BBsoW0ddt2TBOV0H  \n",
       "8868  spotify:track:2e7icsMde2NiAzemsqNhZS  \n",
       "8869  spotify:track:7uDElGnrYEgMQdSA3tSlhZ  \n",
       "8870  spotify:track:47pHU0DEOdoy8tfiIHS7mK  \n",
       "\n",
       "[8871 rows x 3 columns]"
      ]
     },
     "metadata": {},
     "execution_count": 29
    }
   ],
   "metadata": {}
  },
  {
   "cell_type": "code",
   "execution_count": 30,
   "source": [
    "# get the track features for each track from the list of tracks as a list.\r\n",
    "def track_features(spotify_tracks):\r\n",
    "    uris = track_uris(spotify_tracks)\r\n",
    "    track_ids = [uri.split(':')[-1] for uri in uris]\r\n",
    "    audio_features = [sp.audio_features(track_ids[x]) for x in range(len(spotify_tracks))]\r\n",
    "    audio_features =list(audio_features[x][0] for x in range(len(audio_features)))\r\n",
    "    time.sleep(randint(1,3))\r\n",
    "    return audio_features\r\n",
    "\r\n",
    "song_features = track_features(playlist_tracks)\r\n"
   ],
   "outputs": [],
   "metadata": {}
  },
  {
   "cell_type": "code",
   "execution_count": 31,
   "source": [
    "song_data['features'] = song_features"
   ],
   "outputs": [],
   "metadata": {}
  },
  {
   "cell_type": "code",
   "execution_count": 32,
   "source": [
    "print(song_data.shape)\r\n",
    "song_data.dropna(inplace =True)\r\n",
    "print(song_data.shape)"
   ],
   "outputs": [
    {
     "output_type": "stream",
     "name": "stdout",
     "text": [
      "(8871, 4)\n",
      "(8819, 4)\n"
     ]
    }
   ],
   "metadata": {}
  },
  {
   "cell_type": "code",
   "execution_count": 33,
   "source": [
    "# create a list of the remaining song feature dictionaries\r\n",
    "feature_list= list(song_data['features'])\r\n",
    "print(len(feature_list))"
   ],
   "outputs": [
    {
     "output_type": "stream",
     "name": "stdout",
     "text": [
      "8819\n"
     ]
    }
   ],
   "metadata": {}
  },
  {
   "cell_type": "code",
   "execution_count": 34,
   "source": [
    "# create function to take in a set of audio features from a track and output the results as a dataframe.\r\n",
    "def track_feature_split2(feature_sets):\r\n",
    "\r\n",
    "    danceability = [feature['danceability'] for feature in feature_sets]\r\n",
    "    energy = [feature['energy'] for feature in feature_sets]\r\n",
    "    key = [feature['key'] for feature in feature_sets]\r\n",
    "    loudness = [feature['loudness'] for feature in feature_sets]\r\n",
    "    mode = [feature['mode'] for feature in feature_sets]\r\n",
    "    speechiness = [feature['speechiness'] for feature in feature_sets]\r\n",
    "    acousticness = [feature['acousticness'] for feature in feature_sets]\r\n",
    "    instrumentalness = [feature['instrumentalness'] for feature in feature_sets]\r\n",
    "    liveness = [feature['liveness'] for feature in feature_sets]\r\n",
    "    valence = [feature['valence'] for feature in feature_sets]\r\n",
    "    tempo = [feature['tempo'] for feature in feature_sets]\r\n",
    "    duration = [feature['duration_ms'] for feature in feature_sets]\r\n",
    "    time_signature = [feature['time_signature'] for feature in feature_sets]\r\n",
    "\r\n",
    "    feature_df = pd.DataFrame.from_dict({'danceability':danceability, 'energy':energy, 'key':key, 'loudness':loudness, 'mode':mode, 'speechiness':speechiness, 'acousticness':acousticness, 'instrumentalness':instrumentalness, 'liveness':liveness, 'valence':valence, 'tempo':tempo, 'duration': duration, 'time signature':time_signature})\r\n",
    "    return feature_df"
   ],
   "outputs": [],
   "metadata": {}
  },
  {
   "cell_type": "code",
   "execution_count": 143,
   "source": [
    "track_features = track_feature_split2(feature_list)\r\n",
    "len(track_features)"
   ],
   "outputs": [
    {
     "output_type": "execute_result",
     "data": {
      "text/plain": [
       "8819"
      ]
     },
     "metadata": {},
     "execution_count": 143
    }
   ],
   "metadata": {}
  },
  {
   "cell_type": "code",
   "execution_count": 144,
   "source": [
    "song_features = pd.concat((song_data,track_features), axis = 1)\r\n",
    "song_features.drop('features', axis = 1, inplace= True)"
   ],
   "outputs": [],
   "metadata": {}
  },
  {
   "cell_type": "code",
   "execution_count": 145,
   "source": [
    "song_features.dropna(inplace = True)\r\n",
    "song_features.shape"
   ],
   "outputs": [
    {
     "output_type": "execute_result",
     "data": {
      "text/plain": [
       "(8767, 16)"
      ]
     },
     "metadata": {},
     "execution_count": 145
    }
   ],
   "metadata": {}
  },
  {
   "cell_type": "code",
   "execution_count": 146,
   "source": [
    "song_features.to_csv('song_features.csv')\r\n"
   ],
   "outputs": [],
   "metadata": {}
  },
  {
   "cell_type": "code",
   "execution_count": 147,
   "source": [
    "song_features['time signature'].value_counts()"
   ],
   "outputs": [
    {
     "output_type": "execute_result",
     "data": {
      "text/plain": [
       "4.0    8304\n",
       "3.0     360\n",
       "5.0      57\n",
       "1.0      45\n",
       "0.0       1\n",
       "Name: time signature, dtype: int64"
      ]
     },
     "metadata": {},
     "execution_count": 147
    }
   ],
   "metadata": {}
  },
  {
   "cell_type": "markdown",
   "source": [
    "# Clustering\r\n",
    "1. Build the clustering algorithm to cluster the tracks collected above using K-Means Clustering, Agglomerative Clustering, DBSCAN clustering.\r\n",
    "2. Evaluate alogrithm performance.\r\n",
    "3. Select the best performing clustering model (the lowest inertia score at the end)\r\n"
   ],
   "metadata": {}
  },
  {
   "cell_type": "code",
   "execution_count": 148,
   "source": [
    "from sklearn import cluster, datasets\r\n",
    "import matplotlib.pyplot as plt\r\n",
    "%matplotlib inline\r\n",
    "from sklearn.preprocessing import StandardScaler, MinMaxScaler\r\n",
    "from matplotlib.lines import Line2D\r\n",
    "from sklearn import metrics\r\n"
   ],
   "outputs": [],
   "metadata": {}
  },
  {
   "cell_type": "code",
   "execution_count": 149,
   "source": [
    "# Split data into features and targets\r\n",
    "# Time_signature and mode will be dropped from the feature data as they represent categorical information, rather than continuous information.\r\n",
    "X_features = song_features[['danceability', 'energy', 'key','loudness', 'speechiness', 'acousticness', 'instrumentalness','liveness', 'valence', 'tempo', 'duration']]\r\n",
    "X_features"
   ],
   "outputs": [
    {
     "output_type": "execute_result",
     "data": {
      "text/html": [
       "<div>\n",
       "<style scoped>\n",
       "    .dataframe tbody tr th:only-of-type {\n",
       "        vertical-align: middle;\n",
       "    }\n",
       "\n",
       "    .dataframe tbody tr th {\n",
       "        vertical-align: top;\n",
       "    }\n",
       "\n",
       "    .dataframe thead th {\n",
       "        text-align: right;\n",
       "    }\n",
       "</style>\n",
       "<table border=\"1\" class=\"dataframe\">\n",
       "  <thead>\n",
       "    <tr style=\"text-align: right;\">\n",
       "      <th></th>\n",
       "      <th>danceability</th>\n",
       "      <th>energy</th>\n",
       "      <th>key</th>\n",
       "      <th>loudness</th>\n",
       "      <th>speechiness</th>\n",
       "      <th>acousticness</th>\n",
       "      <th>instrumentalness</th>\n",
       "      <th>liveness</th>\n",
       "      <th>valence</th>\n",
       "      <th>tempo</th>\n",
       "      <th>duration</th>\n",
       "    </tr>\n",
       "  </thead>\n",
       "  <tbody>\n",
       "    <tr>\n",
       "      <th>0</th>\n",
       "      <td>0.180</td>\n",
       "      <td>0.934</td>\n",
       "      <td>4.0</td>\n",
       "      <td>-8.699</td>\n",
       "      <td>0.1150</td>\n",
       "      <td>0.000033</td>\n",
       "      <td>0.000551</td>\n",
       "      <td>0.0702</td>\n",
       "      <td>0.433</td>\n",
       "      <td>197.043</td>\n",
       "      <td>130267.0</td>\n",
       "    </tr>\n",
       "    <tr>\n",
       "      <th>1</th>\n",
       "      <td>0.217</td>\n",
       "      <td>0.995</td>\n",
       "      <td>7.0</td>\n",
       "      <td>-3.020</td>\n",
       "      <td>0.1910</td>\n",
       "      <td>0.001990</td>\n",
       "      <td>0.000000</td>\n",
       "      <td>0.3700</td>\n",
       "      <td>0.442</td>\n",
       "      <td>159.957</td>\n",
       "      <td>102293.0</td>\n",
       "    </tr>\n",
       "    <tr>\n",
       "      <th>2</th>\n",
       "      <td>0.391</td>\n",
       "      <td>0.968</td>\n",
       "      <td>0.0</td>\n",
       "      <td>-6.324</td>\n",
       "      <td>0.0625</td>\n",
       "      <td>0.010200</td>\n",
       "      <td>0.000070</td>\n",
       "      <td>0.4460</td>\n",
       "      <td>0.647</td>\n",
       "      <td>90.481</td>\n",
       "      <td>135133.0</td>\n",
       "    </tr>\n",
       "    <tr>\n",
       "      <th>3</th>\n",
       "      <td>0.251</td>\n",
       "      <td>0.958</td>\n",
       "      <td>5.0</td>\n",
       "      <td>-6.383</td>\n",
       "      <td>0.0685</td>\n",
       "      <td>0.000980</td>\n",
       "      <td>0.004080</td>\n",
       "      <td>0.3130</td>\n",
       "      <td>0.748</td>\n",
       "      <td>189.067</td>\n",
       "      <td>47227.0</td>\n",
       "    </tr>\n",
       "    <tr>\n",
       "      <th>4</th>\n",
       "      <td>0.243</td>\n",
       "      <td>0.875</td>\n",
       "      <td>7.0</td>\n",
       "      <td>-8.541</td>\n",
       "      <td>0.0553</td>\n",
       "      <td>0.001100</td>\n",
       "      <td>0.000000</td>\n",
       "      <td>0.3540</td>\n",
       "      <td>0.739</td>\n",
       "      <td>193.965</td>\n",
       "      <td>134200.0</td>\n",
       "    </tr>\n",
       "    <tr>\n",
       "      <th>...</th>\n",
       "      <td>...</td>\n",
       "      <td>...</td>\n",
       "      <td>...</td>\n",
       "      <td>...</td>\n",
       "      <td>...</td>\n",
       "      <td>...</td>\n",
       "      <td>...</td>\n",
       "      <td>...</td>\n",
       "      <td>...</td>\n",
       "      <td>...</td>\n",
       "      <td>...</td>\n",
       "    </tr>\n",
       "    <tr>\n",
       "      <th>8814</th>\n",
       "      <td>0.397</td>\n",
       "      <td>0.929</td>\n",
       "      <td>1.0</td>\n",
       "      <td>-3.870</td>\n",
       "      <td>0.0617</td>\n",
       "      <td>0.003240</td>\n",
       "      <td>0.000769</td>\n",
       "      <td>0.4830</td>\n",
       "      <td>0.188</td>\n",
       "      <td>175.960</td>\n",
       "      <td>472581.0</td>\n",
       "    </tr>\n",
       "    <tr>\n",
       "      <th>8815</th>\n",
       "      <td>0.363</td>\n",
       "      <td>0.981</td>\n",
       "      <td>4.0</td>\n",
       "      <td>-5.435</td>\n",
       "      <td>0.0949</td>\n",
       "      <td>0.000803</td>\n",
       "      <td>0.007990</td>\n",
       "      <td>0.3590</td>\n",
       "      <td>0.132</td>\n",
       "      <td>170.025</td>\n",
       "      <td>251559.0</td>\n",
       "    </tr>\n",
       "    <tr>\n",
       "      <th>8816</th>\n",
       "      <td>0.275</td>\n",
       "      <td>0.769</td>\n",
       "      <td>6.0</td>\n",
       "      <td>-5.312</td>\n",
       "      <td>0.0425</td>\n",
       "      <td>0.000637</td>\n",
       "      <td>0.057400</td>\n",
       "      <td>0.1180</td>\n",
       "      <td>0.182</td>\n",
       "      <td>187.932</td>\n",
       "      <td>243387.0</td>\n",
       "    </tr>\n",
       "    <tr>\n",
       "      <th>8817</th>\n",
       "      <td>0.491</td>\n",
       "      <td>0.966</td>\n",
       "      <td>8.0</td>\n",
       "      <td>-3.787</td>\n",
       "      <td>0.0523</td>\n",
       "      <td>0.000335</td>\n",
       "      <td>0.000344</td>\n",
       "      <td>0.1610</td>\n",
       "      <td>0.474</td>\n",
       "      <td>121.997</td>\n",
       "      <td>299987.0</td>\n",
       "    </tr>\n",
       "    <tr>\n",
       "      <th>8818</th>\n",
       "      <td>0.352</td>\n",
       "      <td>0.835</td>\n",
       "      <td>9.0</td>\n",
       "      <td>-6.285</td>\n",
       "      <td>0.0532</td>\n",
       "      <td>0.000123</td>\n",
       "      <td>0.000000</td>\n",
       "      <td>0.3660</td>\n",
       "      <td>0.247</td>\n",
       "      <td>82.482</td>\n",
       "      <td>295440.0</td>\n",
       "    </tr>\n",
       "  </tbody>\n",
       "</table>\n",
       "<p>8767 rows × 11 columns</p>\n",
       "</div>"
      ],
      "text/plain": [
       "      danceability  energy  key  loudness  speechiness  acousticness  \\\n",
       "0            0.180   0.934  4.0    -8.699       0.1150      0.000033   \n",
       "1            0.217   0.995  7.0    -3.020       0.1910      0.001990   \n",
       "2            0.391   0.968  0.0    -6.324       0.0625      0.010200   \n",
       "3            0.251   0.958  5.0    -6.383       0.0685      0.000980   \n",
       "4            0.243   0.875  7.0    -8.541       0.0553      0.001100   \n",
       "...            ...     ...  ...       ...          ...           ...   \n",
       "8814         0.397   0.929  1.0    -3.870       0.0617      0.003240   \n",
       "8815         0.363   0.981  4.0    -5.435       0.0949      0.000803   \n",
       "8816         0.275   0.769  6.0    -5.312       0.0425      0.000637   \n",
       "8817         0.491   0.966  8.0    -3.787       0.0523      0.000335   \n",
       "8818         0.352   0.835  9.0    -6.285       0.0532      0.000123   \n",
       "\n",
       "      instrumentalness  liveness  valence    tempo  duration  \n",
       "0             0.000551    0.0702    0.433  197.043  130267.0  \n",
       "1             0.000000    0.3700    0.442  159.957  102293.0  \n",
       "2             0.000070    0.4460    0.647   90.481  135133.0  \n",
       "3             0.004080    0.3130    0.748  189.067   47227.0  \n",
       "4             0.000000    0.3540    0.739  193.965  134200.0  \n",
       "...                ...       ...      ...      ...       ...  \n",
       "8814          0.000769    0.4830    0.188  175.960  472581.0  \n",
       "8815          0.007990    0.3590    0.132  170.025  251559.0  \n",
       "8816          0.057400    0.1180    0.182  187.932  243387.0  \n",
       "8817          0.000344    0.1610    0.474  121.997  299987.0  \n",
       "8818          0.000000    0.3660    0.247   82.482  295440.0  \n",
       "\n",
       "[8767 rows x 11 columns]"
      ]
     },
     "metadata": {},
     "execution_count": 149
    }
   ],
   "metadata": {}
  },
  {
   "cell_type": "code",
   "execution_count": 151,
   "source": [
    "# tempo and duration have much larger scales than the other values, so these values should be scaled.\r\n",
    "Feature_scaler1 = StandardScaler().fit(X_features)\r\n",
    "# scale the data.\r\n",
    "X_scaled1 = Feature_scaler1.transform(X_features)\r\n",
    "X_scaled1_df= pd.DataFrame(X_scaled1, columns = [X_features.columns])\r\n",
    "\r\n",
    "X_scaled1_df.head()\r\n",
    "\r\n"
   ],
   "outputs": [
    {
     "output_type": "execute_result",
     "data": {
      "text/html": [
       "<div>\n",
       "<style scoped>\n",
       "    .dataframe tbody tr th:only-of-type {\n",
       "        vertical-align: middle;\n",
       "    }\n",
       "\n",
       "    .dataframe tbody tr th {\n",
       "        vertical-align: top;\n",
       "    }\n",
       "\n",
       "    .dataframe thead tr th {\n",
       "        text-align: left;\n",
       "    }\n",
       "</style>\n",
       "<table border=\"1\" class=\"dataframe\">\n",
       "  <thead>\n",
       "    <tr>\n",
       "      <th></th>\n",
       "      <th>danceability</th>\n",
       "      <th>energy</th>\n",
       "      <th>key</th>\n",
       "      <th>loudness</th>\n",
       "      <th>speechiness</th>\n",
       "      <th>acousticness</th>\n",
       "      <th>instrumentalness</th>\n",
       "      <th>liveness</th>\n",
       "      <th>valence</th>\n",
       "      <th>tempo</th>\n",
       "      <th>duration</th>\n",
       "    </tr>\n",
       "  </thead>\n",
       "  <tbody>\n",
       "    <tr>\n",
       "      <th>0</th>\n",
       "      <td>-2.050624</td>\n",
       "      <td>0.961979</td>\n",
       "      <td>-0.346208</td>\n",
       "      <td>-0.355794</td>\n",
       "      <td>0.206608</td>\n",
       "      <td>-0.694350</td>\n",
       "      <td>-0.331799</td>\n",
       "      <td>-0.798775</td>\n",
       "      <td>-0.471725</td>\n",
       "      <td>2.454669</td>\n",
       "      <td>-1.224292</td>\n",
       "    </tr>\n",
       "    <tr>\n",
       "      <th>1</th>\n",
       "      <td>-1.850315</td>\n",
       "      <td>1.249169</td>\n",
       "      <td>0.481350</td>\n",
       "      <td>1.213420</td>\n",
       "      <td>1.063249</td>\n",
       "      <td>-0.685391</td>\n",
       "      <td>-0.334557</td>\n",
       "      <td>0.959572</td>\n",
       "      <td>-0.436628</td>\n",
       "      <td>1.186638</td>\n",
       "      <td>-1.560121</td>\n",
       "    </tr>\n",
       "    <tr>\n",
       "      <th>2</th>\n",
       "      <td>-0.908322</td>\n",
       "      <td>1.122052</td>\n",
       "      <td>-1.449619</td>\n",
       "      <td>0.300463</td>\n",
       "      <td>-0.385151</td>\n",
       "      <td>-0.647805</td>\n",
       "      <td>-0.334206</td>\n",
       "      <td>1.405317</td>\n",
       "      <td>0.362815</td>\n",
       "      <td>-1.188862</td>\n",
       "      <td>-1.165876</td>\n",
       "    </tr>\n",
       "    <tr>\n",
       "      <th>3</th>\n",
       "      <td>-1.666247</td>\n",
       "      <td>1.074972</td>\n",
       "      <td>-0.070355</td>\n",
       "      <td>0.284160</td>\n",
       "      <td>-0.317521</td>\n",
       "      <td>-0.690015</td>\n",
       "      <td>-0.314132</td>\n",
       "      <td>0.625263</td>\n",
       "      <td>0.756687</td>\n",
       "      <td>2.181957</td>\n",
       "      <td>-2.221189</td>\n",
       "    </tr>\n",
       "    <tr>\n",
       "      <th>4</th>\n",
       "      <td>-1.709557</td>\n",
       "      <td>0.684204</td>\n",
       "      <td>0.481350</td>\n",
       "      <td>-0.312135</td>\n",
       "      <td>-0.466306</td>\n",
       "      <td>-0.689466</td>\n",
       "      <td>-0.334557</td>\n",
       "      <td>0.865731</td>\n",
       "      <td>0.721589</td>\n",
       "      <td>2.349428</td>\n",
       "      <td>-1.177076</td>\n",
       "    </tr>\n",
       "  </tbody>\n",
       "</table>\n",
       "</div>"
      ],
      "text/plain": [
       "  danceability    energy       key  loudness speechiness acousticness  \\\n",
       "0    -2.050624  0.961979 -0.346208 -0.355794    0.206608    -0.694350   \n",
       "1    -1.850315  1.249169  0.481350  1.213420    1.063249    -0.685391   \n",
       "2    -0.908322  1.122052 -1.449619  0.300463   -0.385151    -0.647805   \n",
       "3    -1.666247  1.074972 -0.070355  0.284160   -0.317521    -0.690015   \n",
       "4    -1.709557  0.684204  0.481350 -0.312135   -0.466306    -0.689466   \n",
       "\n",
       "  instrumentalness  liveness   valence     tempo  duration  \n",
       "0        -0.331799 -0.798775 -0.471725  2.454669 -1.224292  \n",
       "1        -0.334557  0.959572 -0.436628  1.186638 -1.560121  \n",
       "2        -0.334206  1.405317  0.362815 -1.188862 -1.165876  \n",
       "3        -0.314132  0.625263  0.756687  2.181957 -2.221189  \n",
       "4        -0.334557  0.865731  0.721589  2.349428 -1.177076  "
      ]
     },
     "metadata": {},
     "execution_count": 151
    }
   ],
   "metadata": {}
  },
  {
   "cell_type": "code",
   "execution_count": 152,
   "source": [
    "# tempo and duration have much larger scales than the other values, so these values should be scaled.\r\n",
    "Feature_scaler2 = StandardScaler().fit(X_features)\r\n",
    "# scale the data.\r\n",
    "X_scaled2 = Feature_scaler2.transform(X_features)\r\n",
    "X_scaled_df2 = pd.DataFrame(X_scaled2, columns = [X_features.columns])\r\n",
    "X_scaled_df2.head()"
   ],
   "outputs": [
    {
     "output_type": "execute_result",
     "data": {
      "text/html": [
       "<div>\n",
       "<style scoped>\n",
       "    .dataframe tbody tr th:only-of-type {\n",
       "        vertical-align: middle;\n",
       "    }\n",
       "\n",
       "    .dataframe tbody tr th {\n",
       "        vertical-align: top;\n",
       "    }\n",
       "\n",
       "    .dataframe thead tr th {\n",
       "        text-align: left;\n",
       "    }\n",
       "</style>\n",
       "<table border=\"1\" class=\"dataframe\">\n",
       "  <thead>\n",
       "    <tr>\n",
       "      <th></th>\n",
       "      <th>danceability</th>\n",
       "      <th>energy</th>\n",
       "      <th>key</th>\n",
       "      <th>loudness</th>\n",
       "      <th>speechiness</th>\n",
       "      <th>acousticness</th>\n",
       "      <th>instrumentalness</th>\n",
       "      <th>liveness</th>\n",
       "      <th>valence</th>\n",
       "      <th>tempo</th>\n",
       "      <th>duration</th>\n",
       "    </tr>\n",
       "  </thead>\n",
       "  <tbody>\n",
       "    <tr>\n",
       "      <th>0</th>\n",
       "      <td>-2.050624</td>\n",
       "      <td>0.961979</td>\n",
       "      <td>-0.346208</td>\n",
       "      <td>-0.355794</td>\n",
       "      <td>0.206608</td>\n",
       "      <td>-0.694350</td>\n",
       "      <td>-0.331799</td>\n",
       "      <td>-0.798775</td>\n",
       "      <td>-0.471725</td>\n",
       "      <td>2.454669</td>\n",
       "      <td>-1.224292</td>\n",
       "    </tr>\n",
       "    <tr>\n",
       "      <th>1</th>\n",
       "      <td>-1.850315</td>\n",
       "      <td>1.249169</td>\n",
       "      <td>0.481350</td>\n",
       "      <td>1.213420</td>\n",
       "      <td>1.063249</td>\n",
       "      <td>-0.685391</td>\n",
       "      <td>-0.334557</td>\n",
       "      <td>0.959572</td>\n",
       "      <td>-0.436628</td>\n",
       "      <td>1.186638</td>\n",
       "      <td>-1.560121</td>\n",
       "    </tr>\n",
       "    <tr>\n",
       "      <th>2</th>\n",
       "      <td>-0.908322</td>\n",
       "      <td>1.122052</td>\n",
       "      <td>-1.449619</td>\n",
       "      <td>0.300463</td>\n",
       "      <td>-0.385151</td>\n",
       "      <td>-0.647805</td>\n",
       "      <td>-0.334206</td>\n",
       "      <td>1.405317</td>\n",
       "      <td>0.362815</td>\n",
       "      <td>-1.188862</td>\n",
       "      <td>-1.165876</td>\n",
       "    </tr>\n",
       "    <tr>\n",
       "      <th>3</th>\n",
       "      <td>-1.666247</td>\n",
       "      <td>1.074972</td>\n",
       "      <td>-0.070355</td>\n",
       "      <td>0.284160</td>\n",
       "      <td>-0.317521</td>\n",
       "      <td>-0.690015</td>\n",
       "      <td>-0.314132</td>\n",
       "      <td>0.625263</td>\n",
       "      <td>0.756687</td>\n",
       "      <td>2.181957</td>\n",
       "      <td>-2.221189</td>\n",
       "    </tr>\n",
       "    <tr>\n",
       "      <th>4</th>\n",
       "      <td>-1.709557</td>\n",
       "      <td>0.684204</td>\n",
       "      <td>0.481350</td>\n",
       "      <td>-0.312135</td>\n",
       "      <td>-0.466306</td>\n",
       "      <td>-0.689466</td>\n",
       "      <td>-0.334557</td>\n",
       "      <td>0.865731</td>\n",
       "      <td>0.721589</td>\n",
       "      <td>2.349428</td>\n",
       "      <td>-1.177076</td>\n",
       "    </tr>\n",
       "  </tbody>\n",
       "</table>\n",
       "</div>"
      ],
      "text/plain": [
       "  danceability    energy       key  loudness speechiness acousticness  \\\n",
       "0    -2.050624  0.961979 -0.346208 -0.355794    0.206608    -0.694350   \n",
       "1    -1.850315  1.249169  0.481350  1.213420    1.063249    -0.685391   \n",
       "2    -0.908322  1.122052 -1.449619  0.300463   -0.385151    -0.647805   \n",
       "3    -1.666247  1.074972 -0.070355  0.284160   -0.317521    -0.690015   \n",
       "4    -1.709557  0.684204  0.481350 -0.312135   -0.466306    -0.689466   \n",
       "\n",
       "  instrumentalness  liveness   valence     tempo  duration  \n",
       "0        -0.331799 -0.798775 -0.471725  2.454669 -1.224292  \n",
       "1        -0.334557  0.959572 -0.436628  1.186638 -1.560121  \n",
       "2        -0.334206  1.405317  0.362815 -1.188862 -1.165876  \n",
       "3        -0.314132  0.625263  0.756687  2.181957 -2.221189  \n",
       "4        -0.334557  0.865731  0.721589  2.349428 -1.177076  "
      ]
     },
     "metadata": {},
     "execution_count": 152
    }
   ],
   "metadata": {}
  },
  {
   "cell_type": "code",
   "execution_count": 153,
   "source": [
    "# determine the optimal number of clusters\r\n",
    "test_K = range(2, 10)\r\n",
    "inertia = []\r\n",
    "\r\n",
    "for k in test_K:\r\n",
    "    kmeans = cluster.KMeans(n_clusters=k)\r\n",
    "    kmeans.fit(X_scaled1_df)\r\n",
    "    inertia.append(kmeans.inertia_)\r\n",
    "\r\n",
    "import matplotlib.pyplot as plt\r\n",
    "%matplotlib inline\r\n",
    "\r\n",
    "plt.figure(figsize=(16,8))\r\n",
    "plt.plot(test_K, inertia, 'bx-')\r\n",
    "plt.xlabel('k')\r\n",
    "plt.ylabel('inertia')\r\n",
    "plt.xticks(np.arange(min(test_K), max(test_K)+1, 1.0))\r\n",
    "plt.title('Elbow Method showing the optimal k')"
   ],
   "outputs": [
    {
     "output_type": "execute_result",
     "data": {
      "text/plain": [
       "Text(0.5, 1.0, 'Elbow Method showing the optimal k')"
      ]
     },
     "metadata": {},
     "execution_count": 153
    },
    {
     "output_type": "display_data",
     "data": {
      "image/png": "[encoded data removed]",
      "text/plain": [
       "<Figure size 1152x576 with 1 Axes>"
      ]
     },
     "metadata": {
      "needs_background": "light"
     }
    }
   ],
   "metadata": {}
  },
  {
   "cell_type": "code",
   "execution_count": 154,
   "source": [
    "# The optimal number of clusters appears to be 3 but 6 looks more useful, so i will choose 6.   \r\n",
    "# Import the k-means clustering algorithm and train it on the datasets. \r\n",
    "kmeans1 = cluster.KMeans(n_clusters=6)\r\n",
    "kmeans1.fit(X_scaled1_df)\r\n",
    "pred1 = kmeans1.predict(X_scaled1_df)\r\n",
    "pred_1 = pd.DataFrame(pred1)\r\n",
    "\r\n",
    "plt.figure(figsize=(5, 5))\r\n",
    "plt.scatter(X_scaled1_df['energy'], X_scaled1_df['danceability'], c=pred1,alpha=0.5)\r\n",
    "plt.show()"
   ],
   "outputs": [
    {
     "output_type": "display_data",
     "data": {
      "image/png": "[encoded data removed]",
      "text/plain": [
       "<Figure size 360x360 with 1 Axes>"
      ]
     },
     "metadata": {
      "needs_background": "light"
     }
    }
   ],
   "metadata": {}
  },
  {
   "cell_type": "code",
   "execution_count": 155,
   "source": [
    "# Import the k-means clustering algorithm and train it on the dataset. \r\n",
    "kmeans2 = cluster.KMeans(n_clusters=6)\r\n",
    "kmeans2.fit(X_scaled_df2)\r\n",
    "pred2 = kmeans2.predict(X_scaled_df2)\r\n",
    "print(pd.DataFrame(pred2).value_counts())\r\n",
    "\r\n",
    "plt.figure(figsize=(5, 5))\r\n",
    "plt.scatter(X_scaled_df2['energy'], X_scaled_df2['danceability'], c=pred2,alpha=0.5)\r\n",
    "plt.show()\r\n",
    "\r\n"
   ],
   "outputs": [
    {
     "output_type": "stream",
     "name": "stdout",
     "text": [
      "0    3142\n",
      "1    2485\n",
      "5    1194\n",
      "4     908\n",
      "2     544\n",
      "3     494\n",
      "dtype: int64\n"
     ]
    },
    {
     "output_type": "display_data",
     "data": {
      "image/png": "[encoded data removed]",
      "text/plain": [
       "<Figure size 360x360 with 1 Axes>"
      ]
     },
     "metadata": {
      "needs_background": "light"
     }
    }
   ],
   "metadata": {}
  },
  {
   "cell_type": "code",
   "execution_count": 156,
   "source": [
    "# instantiate and train another model for comparison\r\n",
    "from sklearn.cluster import AgglomerativeClustering, Birch\r\n",
    "\r\n",
    "# determine the best linkage algorithm to use for  agglomerative clustering.\r\n",
    "\r\n",
    "for link in ['average','complete','single','ward']:\r\n",
    "    aggcluster = AgglomerativeClustering(n_clusters=6, linkage = link)\r\n",
    "    predagg = aggcluster.fit_predict(X_scaled1_df)\r\n",
    "    p = pd.DataFrame(predagg)\r\n",
    "    print(f'Linkage = {link}\\n',p.value_counts())\r\n"
   ],
   "outputs": [
    {
     "output_type": "stream",
     "name": "stdout",
     "text": [
      "Linkage = average\n",
      " 0    8734\n",
      "1      25\n",
      "2       5\n",
      "3       1\n",
      "4       1\n",
      "5       1\n",
      "dtype: int64\n",
      "Linkage = complete\n",
      " 0    7151\n",
      "1     944\n",
      "2     512\n",
      "3     150\n",
      "4       8\n",
      "5       2\n",
      "dtype: int64\n",
      "Linkage = single\n",
      " 0    8761\n",
      "1       2\n",
      "2       1\n",
      "3       1\n",
      "4       1\n",
      "5       1\n",
      "dtype: int64\n",
      "Linkage = ward\n",
      " 1    3445\n",
      "2    2193\n",
      "0    1213\n",
      "4     938\n",
      "3     533\n",
      "5     445\n",
      "dtype: int64\n"
     ]
    }
   ],
   "metadata": {}
  },
  {
   "cell_type": "code",
   "execution_count": 157,
   "source": [
    "# using the same k value we will generate 6 clusters using the 'ward' linking algorithm\r\n",
    "# the 'single', 'complete', and 'average' linking algorithms produced more unbalanced distributions in clusters.\r\n",
    " \r\n",
    "aggcluster = AgglomerativeClustering(n_clusters=6, linkage = 'ward')\r\n",
    "predagg = aggcluster.fit_predict(X_scaled1_df)\r\n",
    "pred_agg =pd.DataFrame(predagg)\r\n",
    "pred_agg.value_counts()\r\n"
   ],
   "outputs": [
    {
     "output_type": "execute_result",
     "data": {
      "text/plain": [
       "1    3445\n",
       "2    2193\n",
       "0    1213\n",
       "4     938\n",
       "3     533\n",
       "5     445\n",
       "dtype: int64"
      ]
     },
     "metadata": {},
     "execution_count": 157
    }
   ],
   "metadata": {}
  },
  {
   "cell_type": "code",
   "execution_count": 158,
   "source": [
    "birchcluster = Birch(n_clusters = 6).fit(X_scaled1_df)\r\n",
    "predbrch = birchcluster.predict(X_scaled1_df) \r\n",
    "pred_brch = pd.DataFrame(predbrch)"
   ],
   "outputs": [],
   "metadata": {}
  },
  {
   "cell_type": "code",
   "execution_count": 159,
   "source": [
    "kmeans = pred_1.value_counts()\r\n",
    "aggclustering = pred_agg.value_counts()\r\n",
    "birchclustering = pred_brch.value_counts()\r\n",
    "clustering = pd.DataFrame([kmeans,aggclustering,birchclustering]).T\r\n",
    "clustering.columns = ['Kmeans','Agglomerative Clustering','BIRCH Clustering']\r\n",
    "clustering\r\n"
   ],
   "outputs": [
    {
     "output_type": "execute_result",
     "data": {
      "text/html": [
       "<div>\n",
       "<style scoped>\n",
       "    .dataframe tbody tr th:only-of-type {\n",
       "        vertical-align: middle;\n",
       "    }\n",
       "\n",
       "    .dataframe tbody tr th {\n",
       "        vertical-align: top;\n",
       "    }\n",
       "\n",
       "    .dataframe thead th {\n",
       "        text-align: right;\n",
       "    }\n",
       "</style>\n",
       "<table border=\"1\" class=\"dataframe\">\n",
       "  <thead>\n",
       "    <tr style=\"text-align: right;\">\n",
       "      <th></th>\n",
       "      <th>Kmeans</th>\n",
       "      <th>Agglomerative Clustering</th>\n",
       "      <th>BIRCH Clustering</th>\n",
       "    </tr>\n",
       "    <tr>\n",
       "      <th>0</th>\n",
       "      <th></th>\n",
       "      <th></th>\n",
       "      <th></th>\n",
       "    </tr>\n",
       "  </thead>\n",
       "  <tbody>\n",
       "    <tr>\n",
       "      <th>0</th>\n",
       "      <td>492</td>\n",
       "      <td>1213</td>\n",
       "      <td>575</td>\n",
       "    </tr>\n",
       "    <tr>\n",
       "      <th>1</th>\n",
       "      <td>921</td>\n",
       "      <td>3445</td>\n",
       "      <td>4075</td>\n",
       "    </tr>\n",
       "    <tr>\n",
       "      <th>2</th>\n",
       "      <td>3168</td>\n",
       "      <td>2193</td>\n",
       "      <td>597</td>\n",
       "    </tr>\n",
       "    <tr>\n",
       "      <th>3</th>\n",
       "      <td>535</td>\n",
       "      <td>533</td>\n",
       "      <td>823</td>\n",
       "    </tr>\n",
       "    <tr>\n",
       "      <th>4</th>\n",
       "      <td>2496</td>\n",
       "      <td>938</td>\n",
       "      <td>489</td>\n",
       "    </tr>\n",
       "    <tr>\n",
       "      <th>5</th>\n",
       "      <td>1155</td>\n",
       "      <td>445</td>\n",
       "      <td>2208</td>\n",
       "    </tr>\n",
       "  </tbody>\n",
       "</table>\n",
       "</div>"
      ],
      "text/plain": [
       "   Kmeans  Agglomerative Clustering  BIRCH Clustering\n",
       "0                                                    \n",
       "0     492                      1213               575\n",
       "1     921                      3445              4075\n",
       "2    3168                      2193               597\n",
       "3     535                       533               823\n",
       "4    2496                       938               489\n",
       "5    1155                       445              2208"
      ]
     },
     "metadata": {},
     "execution_count": 159
    }
   ],
   "metadata": {}
  },
  {
   "cell_type": "code",
   "execution_count": 160,
   "source": [
    "# Add Kmeans and Birch clusters to the song features dataframe.\r\n",
    "# Agglomerative clusters can't be performed on a single song feature as we will use later on.\r\n",
    "song_features['Kmeans clusters'] = pred1\r\n",
    "song_features['Birch clusters'] = predbrch\r\n"
   ],
   "outputs": [],
   "metadata": {}
  },
  {
   "cell_type": "code",
   "execution_count": 161,
   "source": [
    "song_features.columns"
   ],
   "outputs": [
    {
     "output_type": "execute_result",
     "data": {
      "text/plain": [
       "Index(['song_title', 'artists', 'song_uri', 'danceability', 'energy', 'key',\n",
       "       'loudness', 'mode', 'speechiness', 'acousticness', 'instrumentalness',\n",
       "       'liveness', 'valence', 'tempo', 'duration', 'time signature',\n",
       "       'Kmeans clusters', 'Birch clusters'],\n",
       "      dtype='object')"
      ]
     },
     "metadata": {},
     "execution_count": 161
    }
   ],
   "metadata": {}
  },
  {
   "cell_type": "code",
   "execution_count": 162,
   "source": [
    "# pickle models and scalers \r\n",
    "import pickle\r\n",
    "\r\n",
    "pickle.dump(Feature_scaler1, open('minmaxscaler.pkl', 'wb'))\r\n",
    "pickle.dump(kmeans1, open('kmeanscluster.pkl', 'wb'))\r\n",
    "pickle.dump(aggcluster, open('agglomerativecluster.pkl','wb'))\r\n",
    "pickle.dump(birchcluster, open('birchcluster.pkl', 'wb'))\r\n",
    "song_features.to_pickle('./spotify_song_data.pkl')\r\n",
    "Hot_songs.to_pickle('./hot_songs_data.pkl')\r\n"
   ],
   "outputs": [],
   "metadata": {}
  },
  {
   "cell_type": "markdown",
   "source": [
    "# Start writing the recommender\r\n",
    "Create a function to take in user input and check if it is in Hot_songs.  \r\n",
    "If it is a hot song, output a random recommendation from the list of Hot_songs.\r\n",
    "\r\n",
    "Otherwise, use the input details to:  \r\n",
    "1. create a spotify api call  \r\n",
    "2. find the song features  \r\n",
    "3. apply Feature_scaler1  \r\n",
    "4. generate a cluster location for the track  \r\n",
    "5.  return a random track from the same cluster. "
   ],
   "metadata": {}
  },
  {
   "cell_type": "code",
   "execution_count": 163,
   "source": [
    "# create a function to take in a user request and search for song features based on the request.\r\n",
    "def song_seeker(request):\r\n",
    "    search = sp.search(q = request['Track Title'], type = 'track' )\r\n",
    "    for track in search['tracks']['items']:\r\n",
    "        if request['Track Title'].lower()in [track['name'].lower() for track in search['tracks']['items']] and request['Artist Name'].lower() in [track['artists'][x]['name'].lower() for x in range(len(track['artists']))]:\r\n",
    "           features = sp.audio_features(track['id'])\r\n",
    "           feature_frame = pd.DataFrame(features)\r\n",
    "           feature_frame = feature_frame._get_numeric_data()\r\n",
    "           feature_frame.drop(['time_signature', 'mode'], axis = 1, inplace = True)\r\n",
    "           return feature_frame\r\n",
    "        elif request['Track Title'].lower() in [track['name'].lower() for track in search['tracks']['items']] :\r\n",
    "           features = sp.audio_features(track['id'])\r\n",
    "           feature_frame = pd.DataFrame(features)\r\n",
    "           feature_frame = feature_frame._get_numeric_data()\r\n",
    "           feature_frame.drop(['time_signature','mode'], axis = 1, inplace = True)\r\n",
    "           return feature_frame\r\n",
    "        else:\r\n",
    "           try_again = f\"Sorry, no results found for: {request}.Are you sure you spelled it correctly?\"\r\n",
    "           return try_again\r\n"
   ],
   "outputs": [],
   "metadata": {}
  },
  {
   "cell_type": "code",
   "execution_count": 177,
   "source": [
    "# create a function to take in a cluster and return a random other song with the same cluster number.\r\n",
    "\r\n",
    "def song_retriever(clusters, song_list = song_features):\r\n",
    "    cluster_list1 = song_features[song_features[['Kmeans clusters','Birch clusters']] == [5,4]]\r\n",
    "    cluster_list2 = song_features[song_features['Birch clusters'] == 4]\r\n",
    "    cluster_list = pd.concat([cluster_list1,cluster_list2])\r\n",
    "    cluster_list.dropna(inplace = True)\r\n",
    "    random_recommendation = cluster_list.iloc[randint(0,len(cluster_list))]\r\n",
    "    random_recommendation = random_recommendation[['song_title', 'artists']]\r\n",
    "    return random_recommendation.to_dict()\r\n"
   ],
   "outputs": [],
   "metadata": {}
  },
  {
   "cell_type": "code",
   "execution_count": 178,
   "source": [
    "recommendation = song_retriever(clusters = [1,4])\r\n",
    "\r\n",
    "recommendation"
   ],
   "outputs": [
    {
     "output_type": "execute_result",
     "data": {
      "text/plain": [
       "{'song_title': \"Smuggler's Blues\", 'artists': ['Glenn Frey']}"
      ]
     },
     "metadata": {},
     "execution_count": 178
    }
   ],
   "metadata": {}
  },
  {
   "cell_type": "code",
   "execution_count": 179,
   "source": [
    "# create a function to search through a dataframe of songs check that the input is in it, and return a random song. \r\n",
    "def random_song(song_data = Hot_songs):\r\n",
    "    # Create an input option to allow a user to input a track title and artist name.\r\n",
    "    Hot = False\r\n",
    "    while not Hot:\r\n",
    "        user_song_input = input('Song:')\r\n",
    "        user_artist_input = input('Artist: ')\r\n",
    "        user_request = {'Track Title':user_song_input, 'Artist Name':user_artist_input}\r\n",
    "\r\n",
    "        for i in song_data['Track Title']:    \r\n",
    "            if user_request['Track Title'].lower() == i.lower():\r\n",
    "                random_rec = song_data.iloc[randint(0,(song_data.shape[0]))]\r\n",
    "                print(f'If you like {user_request} you might like:\\n\"{random_rec[1]}\" by {random_rec[0]}')\r\n",
    "                Hot = True\r\n",
    "                break\r\n",
    "            else:\r\n",
    "                pass\r\n",
    "        if Hot:\r\n",
    "            pass\r\n",
    "        else:\r\n",
    "            results = song_seeker(user_request)\r\n",
    "            song_title = user_request['Track Title']\r\n",
    "            artist = user_request['Artist Name']\r\n",
    "            if type(results) != str and type(results) != None:\r\n",
    "                scaled_results = pd.DataFrame(Feature_scaler1.transform(results))\r\n",
    "                k_cluster = kmeans1.predict(scaled_results)[0]\r\n",
    "                brch_cluster = birchcluster.predict(scaled_results)[0]\r\n",
    "                clusters = [k_cluster,brch_cluster]\r\n",
    "                recommendation = song_retriever(clusters,song_features)\r\n",
    "                recommendation_title = recommendation['song_title']\r\n",
    "                recommendation_artist = recommendation['artists']\r\n",
    "                print(f'If you like \"{song_title}\" then you might like:\\n \"{recommendation_title}\" by {recommendation_artist}')\r\n",
    "                Hot = True\r\n",
    "                break\r\n",
    "            else:\r\n",
    "                print(results)\r\n",
    "        "
   ],
   "outputs": [],
   "metadata": {}
  },
  {
   "cell_type": "code",
   "execution_count": 182,
   "source": [
    "random_song()\r\n"
   ],
   "outputs": [
    {
     "output_type": "stream",
     "name": "stdout",
     "text": [
      "If you like \"flex\" then you might like:\n",
      " \"Sailing\" by ['Christopher Cross']\n"
     ]
    }
   ],
   "metadata": {}
  },
  {
   "cell_type": "code",
   "execution_count": null,
   "source": [],
   "outputs": [],
   "metadata": {}
  }
 ],
 "metadata": {
  "orig_nbformat": 4,
  "language_info": {
   "name": "python",
   "version": "3.9.6",
   "mimetype": "text/x-python",
   "codemirror_mode": {
    "name": "ipython",
    "version": 3
   },
   "pygments_lexer": "ipython3",
   "nbconvert_exporter": "python",
   "file_extension": ".py"
  },
  "kernelspec": {
   "name": "python3",
   "display_name": "Python 3.9.6 64-bit"
  },
  "interpreter": {
   "hash": "aedf8f1d51000f588b88a278d8030ee8b8cb0ccbfbd1b6163ec7fb88fccbe87e"
  }
 },
 "nbformat": 4,
 "nbformat_minor": 2
}